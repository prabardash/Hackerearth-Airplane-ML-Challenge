{
 "cells": [
  {
   "cell_type": "code",
   "execution_count": 12,
   "metadata": {},
   "outputs": [],
   "source": [
    "import pandas as pd\n",
    "import numpy as np\n",
    "import matplotlib.pyplot as plt\n",
    "\n",
    "from sklearn.model_selection import train_test_split\n",
    "from sklearn.model_selection import cross_val_score\n",
    "\n",
    "from sklearn.ensemble import RandomForestClassifier\n",
    "from sklearn.ensemble import AdaBoostClassifier\n",
    "from sklearn.ensemble import GradientBoostingClassifier\n",
    "import xgboost as xgb"
   ]
  },
  {
   "cell_type": "code",
   "execution_count": 13,
   "metadata": {},
   "outputs": [],
   "source": [
    "import warnings\n",
    "warnings.filterwarnings('ignore')"
   ]
  },
  {
   "cell_type": "code",
   "execution_count": 35,
   "metadata": {},
   "outputs": [],
   "source": [
    "data = pd.read_csv('train_mod.csv')\n",
    "test = pd.read_csv('test_mod.csv')\n",
    "target_col = ['Severity']"
   ]
  },
  {
   "cell_type": "code",
   "execution_count": 15,
   "metadata": {},
   "outputs": [],
   "source": [
    "label_dict = {}\n",
    "for idx, val in enumerate(data['Severity'].unique()):\n",
    "    label_dict[val] = idx+1\n",
    "\n",
    "data['Severity'] = data['Severity'].apply(lambda row: label_dict[row] )"
   ]
  },
  {
   "cell_type": "code",
   "execution_count": 19,
   "metadata": {},
   "outputs": [],
   "source": [
    "def remove_feature(drop_col, target_col, id_col, dataframe):\n",
    "    cols = [i for i in dataframe.columns if i not in drop_col + target_col + id_col]\n",
    "    return cols\n",
    "\n",
    "\n",
    "def rfe_results(model, df, id_col, drop_col, target_col):\n",
    "    Y = df[target_col]\n",
    "    keep_cols = remove_feature(drop_col,target_col, id_col, df)\n",
    "    X= df[keep_cols]\n",
    "    scores = cross_val_score(model, X, Y, cv = 5)\n",
    "    print('Eliminating column ',drop_col,' Score is: ',scores.sum()/len(scores))\n",
    "\n",
    "def rfe_report(model, data):\n",
    "    id_col = ['Accident_ID']\n",
    "    target_col = ['Severity']\n",
    "    all_cols = [i for i in data.columns if i not in id_col+target_col]\n",
    "    \n",
    "    for column in all_cols:\n",
    "        drop_cols = [column]\n",
    "        rfe_results(model, data, id_col, drop_cols, target_col)\n",
    "    \n",
    "    scores = cross_val_score(model, data[all_cols], data[target_col], cv = 5)\n",
    "    print('Not Eliminating any column, score is: ',scores.sum()/len(scores))\n",
    "    return all_cols"
   ]
  },
  {
   "cell_type": "markdown",
   "metadata": {},
   "source": [
    "## AdaBoost"
   ]
  },
  {
   "cell_type": "code",
   "execution_count": 20,
   "metadata": {},
   "outputs": [],
   "source": [
    "data_ab = data.copy()\n",
    "test_ab = test.copy()"
   ]
  },
  {
   "cell_type": "code",
   "execution_count": 22,
   "metadata": {},
   "outputs": [
    {
     "name": "stdout",
     "output_type": "stream",
     "text": [
      "Eliminating column  ['Safety_Score']  Score is:  0.5708\n",
      "Eliminating column  ['Days_Since_Inspection']  Score is:  0.5707000000000001\n",
      "Eliminating column  ['Total_Safety_Complaints']  Score is:  0.5662999999999999\n",
      "Eliminating column  ['Control_Metric']  Score is:  0.6237\n",
      "Eliminating column  ['Turbulence_In_gforces']  Score is:  0.5677\n",
      "Eliminating column  ['Cabin_Temperature']  Score is:  0.5687\n",
      "Eliminating column  ['Accident_Type_Code']  Score is:  0.562\n",
      "Eliminating column  ['Max_Elevation']  Score is:  0.57\n",
      "Eliminating column  ['Violations']  Score is:  0.5699\n",
      "Eliminating column  ['Adverse_Weather_Metric']  Score is:  0.5650999999999999\n",
      "Eliminating column  ['ftr1']  Score is:  0.5556\n",
      "Eliminating column  ['ftr2']  Score is:  0.5698000000000001\n",
      "Eliminating column  ['ftr3']  Score is:  0.5600999999999999\n",
      "Eliminating column  ['DSI_Segmented']  Score is:  0.5683999999999999\n",
      "Not Eliminating any column, score is:  0.5683999999999999\n"
     ]
    }
   ],
   "source": [
    "ab = AdaBoostClassifier(n_estimators= 200, learning_rate=1.0, random_state=123)\n",
    "\n",
    "all_cols = rfe_report(ab,data_ab)"
   ]
  },
  {
   "cell_type": "markdown",
   "metadata": {},
   "source": [
    "## Gradient Boost"
   ]
  },
  {
   "cell_type": "code",
   "execution_count": 30,
   "metadata": {},
   "outputs": [],
   "source": [
    "data_gb = data.copy()\n",
    "test_gb = test.copy()"
   ]
  },
  {
   "cell_type": "code",
   "execution_count": 23,
   "metadata": {},
   "outputs": [
    {
     "data": {
      "text/plain": [
       "GradientBoostingClassifier(ccp_alpha=0.0, criterion='friedman_mse', init=None,\n",
       "                           learning_rate=0.1, loss='deviance', max_depth=3,\n",
       "                           max_features=None, max_leaf_nodes=None,\n",
       "                           min_impurity_decrease=0.0, min_impurity_split=None,\n",
       "                           min_samples_leaf=1, min_samples_split=2,\n",
       "                           min_weight_fraction_leaf=0.0, n_estimators=100,\n",
       "                           n_iter_no_change=None, presort='deprecated',\n",
       "                           random_state=None, subsample=1.0, tol=0.0001,\n",
       "                           validation_fraction=0.1, verbose=0,\n",
       "                           warm_start=False)"
      ]
     },
     "execution_count": 23,
     "metadata": {},
     "output_type": "execute_result"
    }
   ],
   "source": [
    "gb = GradientBoostingClassifier()\n",
    "gb"
   ]
  },
  {
   "cell_type": "code",
   "execution_count": 26,
   "metadata": {},
   "outputs": [
    {
     "name": "stdout",
     "output_type": "stream",
     "text": [
      "Eliminating column  ['Safety_Score']  Score is:  0.6954\n",
      "Eliminating column  ['Days_Since_Inspection']  Score is:  0.7545999999999999\n",
      "Eliminating column  ['Total_Safety_Complaints']  Score is:  0.7723000000000001\n",
      "Eliminating column  ['Control_Metric']  Score is:  0.7212\n",
      "Eliminating column  ['Turbulence_In_gforces']  Score is:  0.7703\n",
      "Eliminating column  ['Cabin_Temperature']  Score is:  0.7722\n",
      "Eliminating column  ['Accident_Type_Code']  Score is:  0.7743\n",
      "Eliminating column  ['Max_Elevation']  Score is:  0.7721\n",
      "Eliminating column  ['Violations']  Score is:  0.7727\n",
      "Eliminating column  ['Adverse_Weather_Metric']  Score is:  0.7744\n",
      "Eliminating column  ['ftr1']  Score is:  0.7499\n",
      "Eliminating column  ['ftr2']  Score is:  0.7713\n",
      "Eliminating column  ['ftr3']  Score is:  0.7699\n",
      "Eliminating column  ['DSI_Segmented']  Score is:  0.7727\n",
      "Not Eliminating any column, score is:  0.7727\n"
     ]
    }
   ],
   "source": [
    "gb = GradientBoostingClassifier(max_depth = 2)\n",
    "\n",
    "all_cols = rfe_report(gb,data_gb)"
   ]
  },
  {
   "cell_type": "code",
   "execution_count": 31,
   "metadata": {},
   "outputs": [
    {
     "name": "stdout",
     "output_type": "stream",
     "text": [
      "Eliminating column  ['Safety_Score']  Score is:  0.6968\n",
      "Eliminating column  ['Days_Since_Inspection']  Score is:  0.7552\n",
      "Eliminating column  ['Total_Safety_Complaints']  Score is:  0.7748999999999999\n",
      "Eliminating column  ['Control_Metric']  Score is:  0.7207\n",
      "Eliminating column  ['Turbulence_In_gforces']  Score is:  0.7745\n",
      "Eliminating column  ['Cabin_Temperature']  Score is:  0.7745999999999998\n",
      "Eliminating column  ['Accident_Type_Code']  Score is:  0.7870999999999999\n",
      "Eliminating column  ['Max_Elevation']  Score is:  0.7746\n",
      "Eliminating column  ['Violations']  Score is:  0.7744\n",
      "Eliminating column  ['ftr1']  Score is:  0.7484999999999999\n",
      "Eliminating column  ['ftr2']  Score is:  0.7732\n",
      "Eliminating column  ['ftr3']  Score is:  0.7680999999999999\n",
      "Eliminating column  ['DSI_Segmented']  Score is:  0.7744\n",
      "Not Eliminating any column, score is:  0.7744\n"
     ]
    }
   ],
   "source": [
    "data_gb = data_gb.drop(columns={'Adverse_Weather_Metric'})\n",
    "all_cols.remove('Adverse_Weather_Metric')\n",
    "\n",
    "all_cols= rfe_report(gb, data_gb)"
   ]
  },
  {
   "cell_type": "code",
   "execution_count": 32,
   "metadata": {},
   "outputs": [
    {
     "name": "stdout",
     "output_type": "stream",
     "text": [
      "Eliminating column  ['Safety_Score']  Score is:  0.693\n",
      "Eliminating column  ['Days_Since_Inspection']  Score is:  0.7585\n",
      "Eliminating column  ['Total_Safety_Complaints']  Score is:  0.7861\n",
      "Eliminating column  ['Control_Metric']  Score is:  0.7414\n",
      "Eliminating column  ['Turbulence_In_gforces']  Score is:  0.7884\n",
      "Eliminating column  ['Cabin_Temperature']  Score is:  0.7889999999999999\n",
      "Eliminating column  ['Max_Elevation']  Score is:  0.7886000000000001\n",
      "Eliminating column  ['Violations']  Score is:  0.7870999999999999\n",
      "Eliminating column  ['ftr1']  Score is:  0.748\n",
      "Eliminating column  ['ftr2']  Score is:  0.7878000000000001\n",
      "Eliminating column  ['ftr3']  Score is:  0.8099999999999999\n",
      "Eliminating column  ['DSI_Segmented']  Score is:  0.7870999999999999\n",
      "Not Eliminating any column, score is:  0.7870999999999999\n"
     ]
    }
   ],
   "source": [
    "data_gb = data_gb.drop(columns={'Accident_Type_Code'})\n",
    "all_cols.remove('Accident_Type_Code')\n",
    "\n",
    "all_cols= rfe_report(gb, data_gb)"
   ]
  },
  {
   "cell_type": "code",
   "execution_count": 33,
   "metadata": {},
   "outputs": [],
   "source": [
    "data_gb = data_gb.drop(columns={'ftr3'})\n",
    "all_cols.remove('ftr3')"
   ]
  },
  {
   "cell_type": "code",
   "execution_count": 51,
   "metadata": {},
   "outputs": [
    {
     "name": "stdout",
     "output_type": "stream",
     "text": [
      "Eliminating column  ['Safety_Score']  Score is:  0.7339\n",
      "Eliminating column  ['Days_Since_Inspection']  Score is:  0.7896\n",
      "Eliminating column  ['Total_Safety_Complaints']  Score is:  0.8108000000000001\n",
      "Eliminating column  ['Control_Metric']  Score is:  0.7589\n",
      "Eliminating column  ['Turbulence_In_gforces']  Score is:  0.8116000000000001\n",
      "Eliminating column  ['Cabin_Temperature']  Score is:  0.8099999999999999\n",
      "Eliminating column  ['Max_Elevation']  Score is:  0.8141999999999999\n",
      "Eliminating column  ['Violations']  Score is:  0.8089999999999999\n",
      "Eliminating column  ['ftr1']  Score is:  0.7813000000000001\n",
      "Eliminating column  ['ftr2']  Score is:  0.8119\n",
      "Eliminating column  ['DSI_Segmented']  Score is:  0.8099999999999999\n",
      "Not Eliminating any column, score is:  0.8099000000000001\n"
     ]
    }
   ],
   "source": [
    "gb = GradientBoostingClassifier(max_depth = 2)\n",
    "all_cols= rfe_report(gb, data_gb)"
   ]
  },
  {
   "cell_type": "code",
   "execution_count": 52,
   "metadata": {},
   "outputs": [
    {
     "name": "stdout",
     "output_type": "stream",
     "text": [
      "Eliminating column  ['Safety_Score']  Score is:  0.7383\n",
      "Eliminating column  ['Days_Since_Inspection']  Score is:  0.7907000000000001\n",
      "Eliminating column  ['Total_Safety_Complaints']  Score is:  0.8115\n",
      "Eliminating column  ['Control_Metric']  Score is:  0.7623\n",
      "Eliminating column  ['Turbulence_In_gforces']  Score is:  0.8165000000000001\n",
      "Eliminating column  ['Cabin_Temperature']  Score is:  0.8119\n",
      "Eliminating column  ['Violations']  Score is:  0.8128\n",
      "Eliminating column  ['ftr1']  Score is:  0.7888\n",
      "Eliminating column  ['ftr2']  Score is:  0.8093\n",
      "Eliminating column  ['DSI_Segmented']  Score is:  0.8143\n",
      "Not Eliminating any column, score is:  0.8140000000000001\n"
     ]
    }
   ],
   "source": [
    "data_gb = data_gb.drop(columns={'Max_Elevation'})\n",
    "all_cols.remove('Max_Elevation')\n",
    "\n",
    "all_cols= rfe_report(gb, data_gb)"
   ]
  },
  {
   "cell_type": "code",
   "execution_count": 68,
   "metadata": {},
   "outputs": [
    {
     "name": "stdout",
     "output_type": "stream",
     "text": [
      "Eliminating column  ['Safety_Score']  Score is:  0.7321\n",
      "Eliminating column  ['Days_Since_Inspection']  Score is:  0.7908000000000002\n",
      "Eliminating column  ['Total_Safety_Complaints']  Score is:  0.8160000000000001\n",
      "Eliminating column  ['Control_Metric']  Score is:  0.7577999999999999\n",
      "Eliminating column  ['Cabin_Temperature']  Score is:  0.8177999999999999\n",
      "Eliminating column  ['Violations']  Score is:  0.8162\n",
      "Eliminating column  ['ftr1']  Score is:  0.7907\n",
      "Eliminating column  ['ftr2']  Score is:  0.8151999999999999\n",
      "Eliminating column  ['DSI_Segmented']  Score is:  0.8165000000000001\n",
      "Not Eliminating any column, score is:  0.8165000000000001\n"
     ]
    }
   ],
   "source": [
    "gb = GradientBoostingClassifier(max_depth = 2)\n",
    "data_gb = data_gb.drop(columns={'Turbulence_In_gforces'})\n",
    "all_cols.remove('Turbulence_In_gforces')\n",
    "\n",
    "all_cols= rfe_report(gb, data_gb)"
   ]
  },
  {
   "cell_type": "code",
   "execution_count": null,
   "metadata": {},
   "outputs": [],
   "source": [
    "gb = GradientBoostingClassifier(max_depth = 2)\n",
    "data_gb = data_gb.drop(columns={'Turbulence_In_gforces'})\n",
    "all_cols.remove('Turbulence_In_gforces')\n",
    "\n",
    "all_cols= rfe_report(gb, data_gb)"
   ]
  },
  {
   "cell_type": "code",
   "execution_count": 72,
   "metadata": {},
   "outputs": [
    {
     "name": "stdout",
     "output_type": "stream",
     "text": [
      "GradientBoostingClassifier(ccp_alpha=0.0, criterion='friedman_mse', init=None,\n",
      "                           learning_rate=0.1, loss='deviance', max_depth=4,\n",
      "                           max_features=3, max_leaf_nodes=None,\n",
      "                           min_impurity_decrease=0.0, min_impurity_split=None,\n",
      "                           min_samples_leaf=1, min_samples_split=2,\n",
      "                           min_weight_fraction_leaf=0.0, n_estimators=1000,\n",
      "                           n_iter_no_change=None, presort='deprecated',\n",
      "                           random_state=123, subsample=1.0, tol=0.0001,\n",
      "                           validation_fraction=0.1, verbose=0,\n",
      "                           warm_start=False)\n",
      "Train Accuracy  100.0 %\n",
      "Test Accuracy  95.72 %\n"
     ]
    }
   ],
   "source": [
    "gb = GradientBoostingClassifier(random_state=123, n_estimators=1000, max_depth = 4, max_features= 3)\n",
    "print(gb)\n",
    "train_X, test_X,train_y, test_y = train_test_split(data_gb[all_cols], data_gb[target_col], random_state=111)\n",
    "gb.fit(train_X,train_y)\n",
    "print('Train Accuracy ',gb.score(train_X,train_y)*100,'%')\n",
    "print('Test Accuracy ',gb.score(test_X, test_y)*100,'%')"
   ]
  },
  {
   "cell_type": "code",
   "execution_count": 70,
   "metadata": {},
   "outputs": [],
   "source": [
    "test_gb['SeverityCode'] = gb.predict(test_gb[all_cols])\n",
    "\n",
    "def get_key(code):\n",
    "    for key, val in label_dict.items():\n",
    "        if code == val:\n",
    "            return key\n",
    "    return 'False'\n",
    "test_gb['Severity'] = test_gb['SeverityCode'].apply(lambda row: get_key(row))\n",
    "\n",
    "test_save = test_gb[['Accident_ID', 'Severity']]\n",
    "\n",
    "test_save= test_save.set_index('Accident_ID')\n",
    "\n",
    "test_save.to_csv('final_submit_gb.csv')"
   ]
  },
  {
   "cell_type": "markdown",
   "metadata": {},
   "source": [
    "## Random Forest"
   ]
  },
  {
   "cell_type": "code",
   "execution_count": 27,
   "metadata": {},
   "outputs": [],
   "source": [
    "data_rf = data.copy()\n",
    "test_gb = test.copy()"
   ]
  },
  {
   "cell_type": "code",
   "execution_count": 77,
   "metadata": {},
   "outputs": [
    {
     "name": "stdout",
     "output_type": "stream",
     "text": [
      "Eliminating column  ['Safety_Score']  Score is:  0.8135\n",
      "Eliminating column  ['Days_Since_Inspection']  Score is:  0.8852\n",
      "Eliminating column  ['Total_Safety_Complaints']  Score is:  0.9379\n",
      "Eliminating column  ['Control_Metric']  Score is:  0.8443999999999999\n",
      "Eliminating column  ['Turbulence_In_gforces']  Score is:  0.9389\n",
      "Eliminating column  ['Cabin_Temperature']  Score is:  0.9378\n",
      "Eliminating column  ['Accident_Type_Code']  Score is:  0.9459\n",
      "Eliminating column  ['Max_Elevation']  Score is:  0.9385999999999999\n",
      "Eliminating column  ['Violations']  Score is:  0.9396000000000001\n",
      "Eliminating column  ['Adverse_Weather_Metric']  Score is:  0.9469999999999998\n",
      "Eliminating column  ['ftr1']  Score is:  0.9161000000000001\n",
      "Eliminating column  ['ftr2']  Score is:  0.9404\n",
      "Eliminating column  ['ftr3']  Score is:  0.9475\n",
      "Eliminating column  ['DSI_Segmented']  Score is:  0.9277\n",
      "Not Eliminating any column, score is:  0.9322000000000001\n"
     ]
    }
   ],
   "source": [
    "rf = RandomForestClassifier(random_state=123, n_estimators=200, n_jobs=-1) \n",
    "\n",
    "all_cols= rfe_report(rf, data_rf)"
   ]
  },
  {
   "cell_type": "code",
   "execution_count": 79,
   "metadata": {},
   "outputs": [
    {
     "name": "stdout",
     "output_type": "stream",
     "text": [
      "Eliminating column  ['Safety_Score']  Score is:  0.861\n",
      "Eliminating column  ['Days_Since_Inspection']  Score is:  0.9087\n",
      "Eliminating column  ['Total_Safety_Complaints']  Score is:  0.9483\n",
      "Eliminating column  ['Control_Metric']  Score is:  0.8614\n",
      "Eliminating column  ['Turbulence_In_gforces']  Score is:  0.9483\n",
      "Eliminating column  ['Cabin_Temperature']  Score is:  0.9490999999999999\n",
      "Eliminating column  ['Accident_Type_Code']  Score is:  0.954\n",
      "Eliminating column  ['Max_Elevation']  Score is:  0.9488\n",
      "Eliminating column  ['Violations']  Score is:  0.9481999999999999\n",
      "Eliminating column  ['ftr1']  Score is:  0.9324999999999999\n",
      "Eliminating column  ['ftr2']  Score is:  0.9501\n",
      "Eliminating column  ['ftr3']  Score is:  0.9551999999999999\n",
      "Eliminating column  ['DSI_Segmented']  Score is:  0.9446\n",
      "Not Eliminating any column, score is:  0.9469999999999998\n"
     ]
    }
   ],
   "source": [
    "data_rf = data_rf.drop(columns={'Adverse_Weather_Metric'})\n",
    "all_cols.remove('Adverse_Weather_Metric')\n",
    "\n",
    "all_cols= rfe_report(rf, data_rf)"
   ]
  },
  {
   "cell_type": "code",
   "execution_count": 82,
   "metadata": {},
   "outputs": [
    {
     "name": "stdout",
     "output_type": "stream",
     "text": [
      "Eliminating column  ['Safety_Score']  Score is:  0.9075\n",
      "Eliminating column  ['Days_Since_Inspection']  Score is:  0.9350000000000002\n",
      "Eliminating column  ['Total_Safety_Complaints']  Score is:  0.9565999999999999\n",
      "Eliminating column  ['Control_Metric']  Score is:  0.8804000000000001\n",
      "Eliminating column  ['Turbulence_In_gforces']  Score is:  0.9576\n",
      "Eliminating column  ['Cabin_Temperature']  Score is:  0.9575000000000001\n",
      "Eliminating column  ['Accident_Type_Code']  Score is:  0.9565999999999999\n",
      "Eliminating column  ['Max_Elevation']  Score is:  0.9587\n",
      "Eliminating column  ['Violations']  Score is:  0.9577\n",
      "Eliminating column  ['ftr1']  Score is:  0.9496\n",
      "Eliminating column  ['ftr2']  Score is:  0.958\n",
      "Eliminating column  ['DSI_Segmented']  Score is:  0.9555\n",
      "Not Eliminating any column, score is:  0.9551999999999999\n"
     ]
    }
   ],
   "source": [
    "data_rf = data_rf.drop(columns={'ftr3'})\n",
    "all_cols.remove('ftr3')\n",
    "\n",
    "all_cols= rfe_report(rf, data_rf)"
   ]
  },
  {
   "cell_type": "code",
   "execution_count": 84,
   "metadata": {},
   "outputs": [
    {
     "name": "stdout",
     "output_type": "stream",
     "text": [
      "Eliminating column  ['Safety_Score']  Score is:  0.9186\n",
      "Eliminating column  ['Days_Since_Inspection']  Score is:  0.9414999999999999\n",
      "Eliminating column  ['Total_Safety_Complaints']  Score is:  0.9577\n",
      "Eliminating column  ['Control_Metric']  Score is:  0.8831\n",
      "Eliminating column  ['Cabin_Temperature']  Score is:  0.9596\n",
      "Eliminating column  ['Accident_Type_Code']  Score is:  0.9559000000000001\n",
      "Eliminating column  ['Max_Elevation']  Score is:  0.9583\n",
      "Eliminating column  ['Violations']  Score is:  0.9591000000000001\n",
      "Eliminating column  ['ftr1']  Score is:  0.9538\n",
      "Eliminating column  ['ftr2']  Score is:  0.9611000000000001\n",
      "Eliminating column  ['DSI_Segmented']  Score is:  0.9567\n",
      "Not Eliminating any column, score is:  0.9576\n"
     ]
    }
   ],
   "source": [
    "data_rf = data_rf.drop(columns={'Turbulence_In_gforces'})\n",
    "all_cols.remove('Turbulence_In_gforces')\n",
    "\n",
    "all_cols= rfe_report(rf, data_rf)"
   ]
  },
  {
   "cell_type": "code",
   "execution_count": 89,
   "metadata": {},
   "outputs": [
    {
     "name": "stdout",
     "output_type": "stream",
     "text": [
      "Eliminating column  ['Safety_Score']  Score is:  0.9209999999999999\n",
      "Eliminating column  ['Days_Since_Inspection']  Score is:  0.9456\n",
      "Eliminating column  ['Total_Safety_Complaints']  Score is:  0.9611999999999998\n",
      "Eliminating column  ['Control_Metric']  Score is:  0.8924\n",
      "Eliminating column  ['Cabin_Temperature']  Score is:  0.9639999999999999\n",
      "Eliminating column  ['Accident_Type_Code']  Score is:  0.9574999999999999\n",
      "Eliminating column  ['Violations']  Score is:  0.961\n",
      "Eliminating column  ['ftr1']  Score is:  0.9559\n",
      "Eliminating column  ['ftr2']  Score is:  0.9620999999999998\n",
      "Eliminating column  ['DSI_Segmented']  Score is:  0.9593999999999999\n",
      "Not Eliminating any column, score is:  0.9583\n"
     ]
    }
   ],
   "source": [
    "data_rf = data.drop(columns={'Max_Elevation'})\n",
    "all_cols.remove('Max_Elevation')\n",
    "\n",
    "all_cols= rfe_report(rf, data_rf)"
   ]
  },
  {
   "cell_type": "code",
   "execution_count": 92,
   "metadata": {},
   "outputs": [
    {
     "name": "stdout",
     "output_type": "stream",
     "text": [
      "Eliminating column  ['Safety_Score']  Score is:  0.9182\n",
      "Eliminating column  ['Days_Since_Inspection']  Score is:  0.9373999999999999\n",
      "Eliminating column  ['Total_Safety_Complaints']  Score is:  0.9585999999999999\n",
      "Eliminating column  ['Control_Metric']  Score is:  0.8986000000000001\n",
      "Eliminating column  ['Accident_Type_Code']  Score is:  0.9574999999999999\n",
      "Eliminating column  ['Violations']  Score is:  0.9602\n",
      "Eliminating column  ['ftr1']  Score is:  0.9526999999999999\n",
      "Eliminating column  ['ftr2']  Score is:  0.9607000000000001\n",
      "Eliminating column  ['DSI_Segmented']  Score is:  0.9568\n",
      "Not Eliminating any column, score is:  0.9639999999999999\n"
     ]
    }
   ],
   "source": [
    "data_rf = data_rf.drop(columns={'Cabin_Temperature'})\n",
    "all_cols.remove('Cabin_Temperature')\n",
    "\n",
    "all_cols= rfe_report(rf, data_rf)"
   ]
  },
  {
   "cell_type": "code",
   "execution_count": 7,
   "metadata": {},
   "outputs": [
    {
     "name": "stdout",
     "output_type": "stream",
     "text": [
      "RandomForestClassifier(bootstrap=True, ccp_alpha=0.0, class_weight=None,\n",
      "                       criterion='gini', max_depth=None, max_features='auto',\n",
      "                       max_leaf_nodes=None, max_samples=None,\n",
      "                       min_impurity_decrease=0.0, min_impurity_split=None,\n",
      "                       min_samples_leaf=1, min_samples_split=2,\n",
      "                       min_weight_fraction_leaf=0.0, n_estimators=165,\n",
      "                       n_jobs=-1, oob_score=False, random_state=123, verbose=0,\n",
      "                       warm_start=False)\n"
     ]
    },
    {
     "ename": "NameError",
     "evalue": "name 'all_cols' is not defined",
     "output_type": "error",
     "traceback": [
      "\u001b[1;31m---------------------------------------------------------------------------\u001b[0m",
      "\u001b[1;31mNameError\u001b[0m                                 Traceback (most recent call last)",
      "\u001b[1;32m<ipython-input-7-54af1d5e172c>\u001b[0m in \u001b[0;36m<module>\u001b[1;34m\u001b[0m\n\u001b[0;32m      1\u001b[0m \u001b[0mrf\u001b[0m \u001b[1;33m=\u001b[0m \u001b[0mRandomForestClassifier\u001b[0m\u001b[1;33m(\u001b[0m\u001b[0mrandom_state\u001b[0m\u001b[1;33m=\u001b[0m\u001b[1;36m123\u001b[0m\u001b[1;33m,\u001b[0m \u001b[0mn_estimators\u001b[0m\u001b[1;33m=\u001b[0m\u001b[1;36m165\u001b[0m\u001b[1;33m,\u001b[0m \u001b[0mn_jobs\u001b[0m\u001b[1;33m=\u001b[0m\u001b[1;33m-\u001b[0m\u001b[1;36m1\u001b[0m\u001b[1;33m)\u001b[0m\u001b[1;33m\u001b[0m\u001b[1;33m\u001b[0m\u001b[0m\n\u001b[0;32m      2\u001b[0m \u001b[0mprint\u001b[0m\u001b[1;33m(\u001b[0m\u001b[0mrf\u001b[0m\u001b[1;33m)\u001b[0m\u001b[1;33m\u001b[0m\u001b[1;33m\u001b[0m\u001b[0m\n\u001b[1;32m----> 3\u001b[1;33m \u001b[0mtrain_X\u001b[0m\u001b[1;33m,\u001b[0m \u001b[0mtest_X\u001b[0m\u001b[1;33m,\u001b[0m\u001b[0mtrain_y\u001b[0m\u001b[1;33m,\u001b[0m \u001b[0mtest_y\u001b[0m \u001b[1;33m=\u001b[0m \u001b[0mtrain_test_split\u001b[0m\u001b[1;33m(\u001b[0m\u001b[0mdata\u001b[0m\u001b[1;33m[\u001b[0m\u001b[0mall_cols\u001b[0m\u001b[1;33m]\u001b[0m\u001b[1;33m,\u001b[0m \u001b[0mdata\u001b[0m\u001b[1;33m[\u001b[0m\u001b[0mtarget_col\u001b[0m\u001b[1;33m]\u001b[0m\u001b[1;33m,\u001b[0m \u001b[0mrandom_state\u001b[0m\u001b[1;33m=\u001b[0m\u001b[1;36m111\u001b[0m\u001b[1;33m)\u001b[0m\u001b[1;33m\u001b[0m\u001b[1;33m\u001b[0m\u001b[0m\n\u001b[0m\u001b[0;32m      4\u001b[0m \u001b[0mrf\u001b[0m\u001b[1;33m.\u001b[0m\u001b[0mfit\u001b[0m\u001b[1;33m(\u001b[0m\u001b[0mtrain_X\u001b[0m\u001b[1;33m,\u001b[0m\u001b[0mtrain_y\u001b[0m\u001b[1;33m)\u001b[0m\u001b[1;33m\u001b[0m\u001b[1;33m\u001b[0m\u001b[0m\n\u001b[0;32m      5\u001b[0m \u001b[0mprint\u001b[0m\u001b[1;33m(\u001b[0m\u001b[1;34m'Train Accuracy '\u001b[0m\u001b[1;33m,\u001b[0m\u001b[0mrf\u001b[0m\u001b[1;33m.\u001b[0m\u001b[0mscore\u001b[0m\u001b[1;33m(\u001b[0m\u001b[0mtrain_X\u001b[0m\u001b[1;33m,\u001b[0m\u001b[0mtrain_y\u001b[0m\u001b[1;33m)\u001b[0m\u001b[1;33m*\u001b[0m\u001b[1;36m100\u001b[0m\u001b[1;33m,\u001b[0m\u001b[1;34m'%'\u001b[0m\u001b[1;33m)\u001b[0m\u001b[1;33m\u001b[0m\u001b[1;33m\u001b[0m\u001b[0m\n",
      "\u001b[1;31mNameError\u001b[0m: name 'all_cols' is not defined"
     ]
    }
   ],
   "source": [
    "rf = RandomForestClassifier(random_state=123, n_estimators=165, n_jobs=-1)\n",
    "print(rf)\n",
    "train_X, test_X,train_y, test_y = train_test_split(data_rf[all_cols], data_rf[target_col], random_state=111)\n",
    "rf.fit(train_X,train_y)\n",
    "print('Train Accuracy ',rf.score(train_X,train_y)*100,'%')\n",
    "print('Test Accuracy ',rf.score(test_X, test_y)*100,'%')"
   ]
  },
  {
   "cell_type": "code",
   "execution_count": 114,
   "metadata": {},
   "outputs": [],
   "source": [
    "test_rf['SeverityCode'] = rf.predict(test_rf[all_cols])"
   ]
  },
  {
   "cell_type": "code",
   "execution_count": 115,
   "metadata": {},
   "outputs": [],
   "source": [
    "def get_key(code):\n",
    "    for key, val in label_dict.items():\n",
    "        if code == val:\n",
    "            return key\n",
    "    return 'False'\n",
    "test_rf['Severity'] = test_rf['SeverityCode'].apply(lambda row: get_key(row))"
   ]
  },
  {
   "cell_type": "code",
   "execution_count": 116,
   "metadata": {},
   "outputs": [],
   "source": [
    "test_save = test_rf[['Accident_ID', 'Severity']]"
   ]
  },
  {
   "cell_type": "code",
   "execution_count": 119,
   "metadata": {},
   "outputs": [],
   "source": [
    "test_save= test_save.set_index('Accident_ID')"
   ]
  },
  {
   "cell_type": "code",
   "execution_count": 120,
   "metadata": {},
   "outputs": [],
   "source": [
    "test_save.to_csv('final_submit_rf.csv')"
   ]
  },
  {
   "cell_type": "code",
   "execution_count": null,
   "metadata": {},
   "outputs": [],
   "source": []
  }
 ],
 "metadata": {
  "kernelspec": {
   "display_name": "Python 3",
   "language": "python",
   "name": "python3"
  },
  "language_info": {
   "codemirror_mode": {
    "name": "ipython",
    "version": 3
   },
   "file_extension": ".py",
   "mimetype": "text/x-python",
   "name": "python",
   "nbconvert_exporter": "python",
   "pygments_lexer": "ipython3",
   "version": "3.7.4"
  }
 },
 "nbformat": 4,
 "nbformat_minor": 2
}
