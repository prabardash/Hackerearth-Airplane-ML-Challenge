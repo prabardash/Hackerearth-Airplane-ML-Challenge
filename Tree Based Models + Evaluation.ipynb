{
 "cells": [
  {
   "cell_type": "markdown",
   "metadata": {},
   "source": [
    "## Import Libraries"
   ]
  },
  {
   "cell_type": "code",
   "execution_count": 1,
   "metadata": {},
   "outputs": [],
   "source": [
    "import pandas as pd\n",
    "import numpy as np\n",
    "import matplotlib.pyplot as plt\n",
    "import seaborn as sns\n",
    "\n",
    "from sklearn.model_selection import train_test_split\n",
    "from sklearn.model_selection import cross_val_score\n",
    "\n",
    "from sklearn.ensemble import RandomForestClassifier\n",
    "from sklearn.ensemble import AdaBoostClassifier\n",
    "from sklearn.ensemble import GradientBoostingClassifier\n",
    "import xgboost as xgb"
   ]
  },
  {
   "cell_type": "code",
   "execution_count": 2,
   "metadata": {},
   "outputs": [],
   "source": [
    "import warnings\n",
    "warnings.filterwarnings('ignore')"
   ]
  },
  {
   "cell_type": "markdown",
   "metadata": {},
   "source": [
    "## Import Data\n",
    "The cleaned data was stored as train_mod.csv and test_mod.csv"
   ]
  },
  {
   "cell_type": "code",
   "execution_count": 3,
   "metadata": {},
   "outputs": [],
   "source": [
    "data = pd.read_csv('train_mod.csv')\n",
    "test = pd.read_csv('test_mod.csv')\n",
    "target_col = ['Severity']"
   ]
  },
  {
   "cell_type": "markdown",
   "metadata": {},
   "source": [
    "### Recursive Forward Elimination\n",
    "\n",
    "Since the dataset is not huge, RFE is used to greedily drop irrelevant columns for each model"
   ]
  },
  {
   "cell_type": "code",
   "execution_count": 4,
   "metadata": {},
   "outputs": [],
   "source": [
    "label_dict = {}\n",
    "for idx, val in enumerate(data['Severity'].unique()):\n",
    "    label_dict[val] = idx+1\n",
    "\n",
    "data['Severity'] = data['Severity'].apply(lambda row: label_dict[row] )"
   ]
  },
  {
   "cell_type": "code",
   "execution_count": 5,
   "metadata": {},
   "outputs": [],
   "source": [
    "def remove_feature(drop_col, target_col, id_col, dataframe):\n",
    "    cols = [i for i in dataframe.columns if i not in drop_col + target_col + id_col]\n",
    "    return cols\n",
    "\n",
    "\n",
    "def rfe_results(model, df, id_col, drop_col, target_col):\n",
    "    Y = df[target_col]\n",
    "    keep_cols = remove_feature(drop_col,target_col, id_col, df)\n",
    "    X= df[keep_cols]\n",
    "    scores = cross_val_score(model, X, Y, cv = 5)\n",
    "    print('Eliminating column ',drop_col,' Score is: ',scores.sum()/len(scores))\n",
    "\n",
    "def rfe_report(model, data):\n",
    "    id_col = ['Accident_ID']\n",
    "    target_col = ['Severity']\n",
    "    all_cols = [i for i in data.columns if i not in id_col+target_col]\n",
    "    \n",
    "    for column in all_cols:\n",
    "        drop_cols = [column]\n",
    "        rfe_results(model, data, id_col, drop_cols, target_col)\n",
    "    \n",
    "    scores = cross_val_score(model, data[all_cols], data[target_col], cv = 5)\n",
    "    print('Not Eliminating any column, score is: ',scores.sum()/len(scores))\n",
    "    return all_cols"
   ]
  },
  {
   "cell_type": "markdown",
   "metadata": {},
   "source": [
    "## AdaBoost"
   ]
  },
  {
   "cell_type": "code",
   "execution_count": 6,
   "metadata": {},
   "outputs": [],
   "source": [
    "data_ab = data.copy()\n",
    "test_ab = test.copy()"
   ]
  },
  {
   "cell_type": "code",
   "execution_count": 7,
   "metadata": {},
   "outputs": [
    {
     "name": "stdout",
     "output_type": "stream",
     "text": [
      "Eliminating column  ['Safety_Score']  Score is:  0.5708\n",
      "Eliminating column  ['Days_Since_Inspection']  Score is:  0.5707000000000001\n",
      "Eliminating column  ['Total_Safety_Complaints']  Score is:  0.5662999999999999\n",
      "Eliminating column  ['Control_Metric']  Score is:  0.6237\n",
      "Eliminating column  ['Turbulence_In_gforces']  Score is:  0.5677\n",
      "Eliminating column  ['Cabin_Temperature']  Score is:  0.5687\n",
      "Eliminating column  ['Accident_Type_Code']  Score is:  0.562\n",
      "Eliminating column  ['Max_Elevation']  Score is:  0.57\n",
      "Eliminating column  ['Violations']  Score is:  0.5699\n",
      "Eliminating column  ['Adverse_Weather_Metric']  Score is:  0.5650999999999999\n",
      "Eliminating column  ['ftr1']  Score is:  0.5556\n",
      "Eliminating column  ['ftr2']  Score is:  0.5698000000000001\n",
      "Eliminating column  ['ftr3']  Score is:  0.5600999999999999\n",
      "Eliminating column  ['DSI_Segmented']  Score is:  0.5683999999999999\n",
      "Not Eliminating any column, score is:  0.5683999999999999\n"
     ]
    }
   ],
   "source": [
    "ab = AdaBoostClassifier(n_estimators= 200, learning_rate=1.0, random_state=123)\n",
    "\n",
    "all_cols = rfe_report(ab,data_ab)"
   ]
  },
  {
   "cell_type": "markdown",
   "metadata": {},
   "source": [
    "## Gradient Boost"
   ]
  },
  {
   "cell_type": "code",
   "execution_count": 16,
   "metadata": {},
   "outputs": [],
   "source": [
    "data_gb = data.copy()\n",
    "test_gb = test.copy()"
   ]
  },
  {
   "cell_type": "code",
   "execution_count": 17,
   "metadata": {},
   "outputs": [
    {
     "data": {
      "text/plain": [
       "GradientBoostingClassifier()"
      ]
     },
     "execution_count": 17,
     "metadata": {},
     "output_type": "execute_result"
    }
   ],
   "source": [
    "gb = GradientBoostingClassifier()\n",
    "gb"
   ]
  },
  {
   "cell_type": "code",
   "execution_count": 18,
   "metadata": {},
   "outputs": [
    {
     "name": "stdout",
     "output_type": "stream",
     "text": [
      "Eliminating column  ['Safety_Score']  Score is:  0.6952999999999999\n",
      "Eliminating column  ['Days_Since_Inspection']  Score is:  0.7545999999999999\n",
      "Eliminating column  ['Total_Safety_Complaints']  Score is:  0.7723000000000001\n",
      "Eliminating column  ['Control_Metric']  Score is:  0.7212\n",
      "Eliminating column  ['Turbulence_In_gforces']  Score is:  0.7703\n",
      "Eliminating column  ['Cabin_Temperature']  Score is:  0.7722\n",
      "Eliminating column  ['Accident_Type_Code']  Score is:  0.7743\n",
      "Eliminating column  ['Max_Elevation']  Score is:  0.7721\n",
      "Eliminating column  ['Violations']  Score is:  0.7727\n",
      "Eliminating column  ['Adverse_Weather_Metric']  Score is:  0.7744\n",
      "Eliminating column  ['ftr1']  Score is:  0.7499\n",
      "Eliminating column  ['ftr2']  Score is:  0.7713\n",
      "Eliminating column  ['ftr3']  Score is:  0.7699\n",
      "Eliminating column  ['DSI_Segmented']  Score is:  0.7727\n",
      "Not Eliminating any column, score is:  0.7727\n"
     ]
    }
   ],
   "source": [
    "gb = GradientBoostingClassifier(max_depth = 2)\n",
    "\n",
    "all_cols = rfe_report(gb,data_gb)"
   ]
  },
  {
   "cell_type": "code",
   "execution_count": 19,
   "metadata": {},
   "outputs": [
    {
     "name": "stdout",
     "output_type": "stream",
     "text": [
      "Eliminating column  ['Safety_Score']  Score is:  0.6968\n",
      "Eliminating column  ['Days_Since_Inspection']  Score is:  0.7552\n",
      "Eliminating column  ['Total_Safety_Complaints']  Score is:  0.7748999999999999\n",
      "Eliminating column  ['Control_Metric']  Score is:  0.7207\n",
      "Eliminating column  ['Turbulence_In_gforces']  Score is:  0.7745\n",
      "Eliminating column  ['Cabin_Temperature']  Score is:  0.7745999999999998\n",
      "Eliminating column  ['Accident_Type_Code']  Score is:  0.7871999999999999\n",
      "Eliminating column  ['Max_Elevation']  Score is:  0.7745\n",
      "Eliminating column  ['Violations']  Score is:  0.7744\n",
      "Eliminating column  ['ftr1']  Score is:  0.7484999999999999\n",
      "Eliminating column  ['ftr2']  Score is:  0.7731\n",
      "Eliminating column  ['ftr3']  Score is:  0.7680999999999999\n",
      "Eliminating column  ['DSI_Segmented']  Score is:  0.7744\n",
      "Not Eliminating any column, score is:  0.7744\n"
     ]
    }
   ],
   "source": [
    "data_gb = data_gb.drop(columns={'Adverse_Weather_Metric'})\n",
    "all_cols.remove('Adverse_Weather_Metric')\n",
    "\n",
    "all_cols= rfe_report(gb, data_gb)"
   ]
  },
  {
   "cell_type": "code",
   "execution_count": 20,
   "metadata": {},
   "outputs": [
    {
     "name": "stdout",
     "output_type": "stream",
     "text": [
      "Eliminating column  ['Safety_Score']  Score is:  0.6929\n",
      "Eliminating column  ['Days_Since_Inspection']  Score is:  0.7585\n",
      "Eliminating column  ['Total_Safety_Complaints']  Score is:  0.7861\n",
      "Eliminating column  ['Control_Metric']  Score is:  0.7414\n",
      "Eliminating column  ['Turbulence_In_gforces']  Score is:  0.7884\n",
      "Eliminating column  ['Cabin_Temperature']  Score is:  0.7889999999999999\n",
      "Eliminating column  ['Max_Elevation']  Score is:  0.7886000000000001\n",
      "Eliminating column  ['Violations']  Score is:  0.7871999999999999\n",
      "Eliminating column  ['ftr1']  Score is:  0.748\n",
      "Eliminating column  ['ftr2']  Score is:  0.7876\n",
      "Eliminating column  ['ftr3']  Score is:  0.8099999999999999\n",
      "Eliminating column  ['DSI_Segmented']  Score is:  0.7870999999999999\n",
      "Not Eliminating any column, score is:  0.7870999999999999\n"
     ]
    }
   ],
   "source": [
    "data_gb = data_gb.drop(columns={'Accident_Type_Code'})\n",
    "all_cols.remove('Accident_Type_Code')\n",
    "\n",
    "all_cols= rfe_report(gb, data_gb)"
   ]
  },
  {
   "cell_type": "code",
   "execution_count": 21,
   "metadata": {},
   "outputs": [],
   "source": [
    "data_gb = data_gb.drop(columns={'ftr3'})\n",
    "all_cols.remove('ftr3')"
   ]
  },
  {
   "cell_type": "code",
   "execution_count": 22,
   "metadata": {},
   "outputs": [
    {
     "name": "stdout",
     "output_type": "stream",
     "text": [
      "Eliminating column  ['Safety_Score']  Score is:  0.7338\n",
      "Eliminating column  ['Days_Since_Inspection']  Score is:  0.7896\n",
      "Eliminating column  ['Total_Safety_Complaints']  Score is:  0.8108000000000001\n",
      "Eliminating column  ['Control_Metric']  Score is:  0.7589\n",
      "Eliminating column  ['Turbulence_In_gforces']  Score is:  0.8117000000000001\n",
      "Eliminating column  ['Cabin_Temperature']  Score is:  0.8100999999999999\n",
      "Eliminating column  ['Max_Elevation']  Score is:  0.8140000000000001\n",
      "Eliminating column  ['Violations']  Score is:  0.8089999999999999\n",
      "Eliminating column  ['ftr1']  Score is:  0.7813000000000001\n",
      "Eliminating column  ['ftr2']  Score is:  0.8119\n",
      "Eliminating column  ['DSI_Segmented']  Score is:  0.8099999999999999\n",
      "Not Eliminating any column, score is:  0.8099999999999999\n"
     ]
    }
   ],
   "source": [
    "gb = GradientBoostingClassifier(max_depth = 2)\n",
    "all_cols= rfe_report(gb, data_gb)"
   ]
  },
  {
   "cell_type": "code",
   "execution_count": 23,
   "metadata": {},
   "outputs": [
    {
     "name": "stdout",
     "output_type": "stream",
     "text": [
      "Eliminating column  ['Safety_Score']  Score is:  0.7382000000000001\n",
      "Eliminating column  ['Days_Since_Inspection']  Score is:  0.7907000000000001\n",
      "Eliminating column  ['Total_Safety_Complaints']  Score is:  0.8115\n",
      "Eliminating column  ['Control_Metric']  Score is:  0.7624000000000001\n",
      "Eliminating column  ['Turbulence_In_gforces']  Score is:  0.8165000000000001\n",
      "Eliminating column  ['Cabin_Temperature']  Score is:  0.8119\n",
      "Eliminating column  ['Violations']  Score is:  0.813\n",
      "Eliminating column  ['ftr1']  Score is:  0.7888\n",
      "Eliminating column  ['ftr2']  Score is:  0.8093\n",
      "Eliminating column  ['DSI_Segmented']  Score is:  0.8143\n",
      "Not Eliminating any column, score is:  0.8141999999999999\n"
     ]
    }
   ],
   "source": [
    "data_gb = data_gb.drop(columns={'Max_Elevation'})\n",
    "all_cols.remove('Max_Elevation')\n",
    "\n",
    "all_cols= rfe_report(gb, data_gb)"
   ]
  },
  {
   "cell_type": "code",
   "execution_count": 24,
   "metadata": {},
   "outputs": [
    {
     "name": "stdout",
     "output_type": "stream",
     "text": [
      "Eliminating column  ['Safety_Score']  Score is:  0.7321\n",
      "Eliminating column  ['Days_Since_Inspection']  Score is:  0.7908000000000002\n",
      "Eliminating column  ['Total_Safety_Complaints']  Score is:  0.8160000000000001\n",
      "Eliminating column  ['Control_Metric']  Score is:  0.7577999999999999\n",
      "Eliminating column  ['Cabin_Temperature']  Score is:  0.8177999999999999\n",
      "Eliminating column  ['Violations']  Score is:  0.8162\n",
      "Eliminating column  ['ftr1']  Score is:  0.7907\n",
      "Eliminating column  ['ftr2']  Score is:  0.8151999999999999\n",
      "Eliminating column  ['DSI_Segmented']  Score is:  0.8165000000000001\n",
      "Not Eliminating any column, score is:  0.8165000000000001\n"
     ]
    }
   ],
   "source": [
    "gb = GradientBoostingClassifier(max_depth = 2)\n",
    "data_gb = data_gb.drop(columns={'Turbulence_In_gforces'})\n",
    "all_cols.remove('Turbulence_In_gforces')\n",
    "\n",
    "all_cols= rfe_report(gb, data_gb)"
   ]
  },
  {
   "cell_type": "code",
   "execution_count": 27,
   "metadata": {},
   "outputs": [
    {
     "name": "stdout",
     "output_type": "stream",
     "text": [
      "Eliminating column  ['Safety_Score']  Score is:  0.7381\n",
      "Eliminating column  ['Days_Since_Inspection']  Score is:  0.7888\n",
      "Eliminating column  ['Total_Safety_Complaints']  Score is:  0.8163\n",
      "Eliminating column  ['Control_Metric']  Score is:  0.756\n",
      "Eliminating column  ['Violations']  Score is:  0.8173\n",
      "Eliminating column  ['ftr1']  Score is:  0.7962\n",
      "Eliminating column  ['ftr2']  Score is:  0.8143\n",
      "Eliminating column  ['DSI_Segmented']  Score is:  0.8177999999999999\n",
      "Not Eliminating any column, score is:  0.8177999999999999\n"
     ]
    }
   ],
   "source": [
    "data_gb = data_gb.drop(columns={'Cabin_Temperature'})\n",
    "all_cols.remove('Cabin_Temperature')\n",
    "\n",
    "all_cols= rfe_report(gb, data_gb)"
   ]
  },
  {
   "cell_type": "code",
   "execution_count": 28,
   "metadata": {},
   "outputs": [
    {
     "name": "stdout",
     "output_type": "stream",
     "text": [
      "GradientBoostingClassifier(max_depth=4, max_features=3, n_estimators=1000,\n",
      "                           random_state=123)\n",
      "Train Accuracy  100.0 %\n",
      "Test Accuracy  96.36 %\n"
     ]
    }
   ],
   "source": [
    "gb = GradientBoostingClassifier(random_state=123, n_estimators=1000, max_depth = 4, max_features= 3)\n",
    "print(gb)\n",
    "train_X, test_X,train_y, test_y = train_test_split(data_gb[all_cols], data_gb[target_col], random_state=111)\n",
    "gb.fit(train_X,train_y)\n",
    "print('Train Accuracy ',gb.score(train_X,train_y)*100,'%')\n",
    "print('Test Accuracy ',gb.score(test_X, test_y)*100,'%')"
   ]
  },
  {
   "cell_type": "code",
   "execution_count": 29,
   "metadata": {},
   "outputs": [],
   "source": [
    "test_gb['SeverityCode'] = gb.predict(test_gb[all_cols])\n",
    "\n",
    "def get_key(code):\n",
    "    for key, val in label_dict.items():\n",
    "        if code == val:\n",
    "            return key\n",
    "    return 'False'\n",
    "test_gb['Severity'] = test_gb['SeverityCode'].apply(lambda row: get_key(row))\n",
    "\n",
    "test_save = test_gb[['Accident_ID', 'Severity']]\n",
    "\n",
    "test_save= test_save.set_index('Accident_ID')\n",
    "\n",
    "test_save.to_csv('final_submit_gb.csv')"
   ]
  },
  {
   "cell_type": "markdown",
   "metadata": {},
   "source": [
    "## Random Forest"
   ]
  },
  {
   "cell_type": "code",
   "execution_count": 8,
   "metadata": {},
   "outputs": [],
   "source": [
    "data_rf = data.copy()\n",
    "test_rf = test.copy()"
   ]
  },
  {
   "cell_type": "code",
   "execution_count": 9,
   "metadata": {},
   "outputs": [
    {
     "name": "stdout",
     "output_type": "stream",
     "text": [
      "Eliminating column  ['Safety_Score']  Score is:  0.8135\n",
      "Eliminating column  ['Days_Since_Inspection']  Score is:  0.8852\n",
      "Eliminating column  ['Total_Safety_Complaints']  Score is:  0.9379\n",
      "Eliminating column  ['Control_Metric']  Score is:  0.8443999999999999\n",
      "Eliminating column  ['Turbulence_In_gforces']  Score is:  0.9389\n",
      "Eliminating column  ['Cabin_Temperature']  Score is:  0.9378\n",
      "Eliminating column  ['Accident_Type_Code']  Score is:  0.9459\n",
      "Eliminating column  ['Max_Elevation']  Score is:  0.9385999999999999\n",
      "Eliminating column  ['Violations']  Score is:  0.9396000000000001\n",
      "Eliminating column  ['Adverse_Weather_Metric']  Score is:  0.9469999999999998\n",
      "Eliminating column  ['ftr1']  Score is:  0.9161000000000001\n",
      "Eliminating column  ['ftr2']  Score is:  0.9404\n",
      "Eliminating column  ['ftr3']  Score is:  0.9475\n",
      "Eliminating column  ['DSI_Segmented']  Score is:  0.9277\n",
      "Not Eliminating any column, score is:  0.9322000000000001\n"
     ]
    }
   ],
   "source": [
    "rf = RandomForestClassifier(random_state=123, n_estimators=200, n_jobs=-1) \n",
    "\n",
    "all_cols= rfe_report(rf, data_rf)"
   ]
  },
  {
   "cell_type": "code",
   "execution_count": 10,
   "metadata": {},
   "outputs": [
    {
     "name": "stdout",
     "output_type": "stream",
     "text": [
      "Eliminating column  ['Safety_Score']  Score is:  0.861\n",
      "Eliminating column  ['Days_Since_Inspection']  Score is:  0.9087\n",
      "Eliminating column  ['Total_Safety_Complaints']  Score is:  0.9483\n",
      "Eliminating column  ['Control_Metric']  Score is:  0.8614\n",
      "Eliminating column  ['Turbulence_In_gforces']  Score is:  0.9483\n",
      "Eliminating column  ['Cabin_Temperature']  Score is:  0.9490999999999999\n",
      "Eliminating column  ['Accident_Type_Code']  Score is:  0.954\n",
      "Eliminating column  ['Max_Elevation']  Score is:  0.9488\n",
      "Eliminating column  ['Violations']  Score is:  0.9481999999999999\n",
      "Eliminating column  ['ftr1']  Score is:  0.9324999999999999\n",
      "Eliminating column  ['ftr2']  Score is:  0.9501\n",
      "Eliminating column  ['ftr3']  Score is:  0.9551999999999999\n",
      "Eliminating column  ['DSI_Segmented']  Score is:  0.9446\n",
      "Not Eliminating any column, score is:  0.9469999999999998\n"
     ]
    }
   ],
   "source": [
    "# Eliminating Adverse Weather Metric\n",
    "data_rf = data_rf.drop(columns={'Adverse_Weather_Metric'})\n",
    "all_cols.remove('Adverse_Weather_Metric')\n",
    "\n",
    "# Accuracy \n",
    "all_cols= rfe_report(rf, data_rf)"
   ]
  },
  {
   "cell_type": "code",
   "execution_count": 11,
   "metadata": {},
   "outputs": [
    {
     "name": "stdout",
     "output_type": "stream",
     "text": [
      "Eliminating column  ['Safety_Score']  Score is:  0.9075\n",
      "Eliminating column  ['Days_Since_Inspection']  Score is:  0.9350000000000002\n",
      "Eliminating column  ['Total_Safety_Complaints']  Score is:  0.9565999999999999\n",
      "Eliminating column  ['Control_Metric']  Score is:  0.8804000000000001\n",
      "Eliminating column  ['Turbulence_In_gforces']  Score is:  0.9576\n",
      "Eliminating column  ['Cabin_Temperature']  Score is:  0.9575000000000001\n",
      "Eliminating column  ['Accident_Type_Code']  Score is:  0.9565999999999999\n",
      "Eliminating column  ['Max_Elevation']  Score is:  0.9587\n",
      "Eliminating column  ['Violations']  Score is:  0.9577\n",
      "Eliminating column  ['ftr1']  Score is:  0.9496\n",
      "Eliminating column  ['ftr2']  Score is:  0.958\n",
      "Eliminating column  ['DSI_Segmented']  Score is:  0.9555\n",
      "Not Eliminating any column, score is:  0.9551999999999999\n"
     ]
    }
   ],
   "source": [
    "#Eliminating ftr3 feature\n",
    "data_rf = data_rf.drop(columns={'ftr3'})\n",
    "all_cols.remove('ftr3')\n",
    "# Re-generate RFE scores\n",
    "all_cols= rfe_report(rf, data_rf)"
   ]
  },
  {
   "cell_type": "code",
   "execution_count": 12,
   "metadata": {},
   "outputs": [
    {
     "name": "stdout",
     "output_type": "stream",
     "text": [
      "Eliminating column  ['Safety_Score']  Score is:  0.9186\n",
      "Eliminating column  ['Days_Since_Inspection']  Score is:  0.9414999999999999\n",
      "Eliminating column  ['Total_Safety_Complaints']  Score is:  0.9577\n",
      "Eliminating column  ['Control_Metric']  Score is:  0.8831\n",
      "Eliminating column  ['Cabin_Temperature']  Score is:  0.9596\n",
      "Eliminating column  ['Accident_Type_Code']  Score is:  0.9559000000000001\n",
      "Eliminating column  ['Max_Elevation']  Score is:  0.9583\n",
      "Eliminating column  ['Violations']  Score is:  0.9591000000000001\n",
      "Eliminating column  ['ftr1']  Score is:  0.9538\n",
      "Eliminating column  ['ftr2']  Score is:  0.9611000000000001\n",
      "Eliminating column  ['DSI_Segmented']  Score is:  0.9567\n",
      "Not Eliminating any column, score is:  0.9576\n"
     ]
    }
   ],
   "source": [
    "data_rf = data_rf.drop(columns={'Turbulence_In_gforces'})\n",
    "all_cols.remove('Turbulence_In_gforces')\n",
    "\n",
    "all_cols= rfe_report(rf, data_rf)"
   ]
  },
  {
   "cell_type": "code",
   "execution_count": 13,
   "metadata": {},
   "outputs": [
    {
     "name": "stdout",
     "output_type": "stream",
     "text": [
      "Eliminating column  ['Safety_Score']  Score is:  0.8299999999999998\n",
      "Eliminating column  ['Days_Since_Inspection']  Score is:  0.8944999999999999\n",
      "Eliminating column  ['Total_Safety_Complaints']  Score is:  0.9410999999999999\n",
      "Eliminating column  ['Control_Metric']  Score is:  0.8493\n",
      "Eliminating column  ['Turbulence_In_gforces']  Score is:  0.9416\n",
      "Eliminating column  ['Cabin_Temperature']  Score is:  0.9406000000000001\n",
      "Eliminating column  ['Accident_Type_Code']  Score is:  0.9471\n",
      "Eliminating column  ['Violations']  Score is:  0.9428000000000001\n",
      "Eliminating column  ['Adverse_Weather_Metric']  Score is:  0.9488\n",
      "Eliminating column  ['ftr1']  Score is:  0.9204000000000001\n",
      "Eliminating column  ['ftr2']  Score is:  0.9419000000000001\n",
      "Eliminating column  ['ftr3']  Score is:  0.9498\n",
      "Eliminating column  ['DSI_Segmented']  Score is:  0.9339999999999999\n",
      "Not Eliminating any column, score is:  0.9385999999999999\n"
     ]
    }
   ],
   "source": [
    "data_rf = data.drop(columns={'Max_Elevation'})\n",
    "all_cols.remove('Max_Elevation')\n",
    "\n",
    "all_cols= rfe_report(rf, data_rf)"
   ]
  },
  {
   "cell_type": "code",
   "execution_count": 14,
   "metadata": {},
   "outputs": [
    {
     "name": "stdout",
     "output_type": "stream",
     "text": [
      "Eliminating column  ['Safety_Score']  Score is:  0.8367000000000001\n",
      "Eliminating column  ['Days_Since_Inspection']  Score is:  0.9043000000000001\n",
      "Eliminating column  ['Total_Safety_Complaints']  Score is:  0.9443000000000001\n",
      "Eliminating column  ['Control_Metric']  Score is:  0.8537000000000001\n",
      "Eliminating column  ['Turbulence_In_gforces']  Score is:  0.9463000000000001\n",
      "Eliminating column  ['Accident_Type_Code']  Score is:  0.9506\n",
      "Eliminating column  ['Violations']  Score is:  0.9467000000000001\n",
      "Eliminating column  ['Adverse_Weather_Metric']  Score is:  0.9521000000000001\n",
      "Eliminating column  ['ftr1']  Score is:  0.9301\n",
      "Eliminating column  ['ftr2']  Score is:  0.9469999999999998\n",
      "Eliminating column  ['ftr3']  Score is:  0.9513999999999999\n",
      "Eliminating column  ['DSI_Segmented']  Score is:  0.9390000000000001\n",
      "Not Eliminating any column, score is:  0.9406000000000001\n"
     ]
    }
   ],
   "source": [
    "data_rf = data_rf.drop(columns={'Cabin_Temperature'})\n",
    "all_cols.remove('Cabin_Temperature')\n",
    "\n",
    "all_cols= rfe_report(rf, data_rf)"
   ]
  },
  {
   "cell_type": "code",
   "execution_count": 16,
   "metadata": {},
   "outputs": [
    {
     "data": {
      "text/plain": [
       "Text(0.5, 1.0, 'Accuracy of Random Forest Classifier')"
      ]
     },
     "execution_count": 16,
     "metadata": {},
     "output_type": "execute_result"
    },
    {
     "data": {
      "image/png": "[encoded data removed]",
      "text/plain": [
       "<Figure size 432x288 with 1 Axes>"
      ]
     },
     "metadata": {
      "needs_background": "light"
     },
     "output_type": "display_data"
    }
   ],
   "source": [
    "n_estimators = [25, 50, 100, 250, 500, 1000, 2500]\n",
    "train_scores = []\n",
    "test_scores = []\n",
    "for i in n_estimators:\n",
    "    rf = RandomForestClassifier(random_state=123, n_estimators=i, n_jobs=-1)\n",
    "    #print(rf)\n",
    "    train_X, test_X,train_y, test_y = train_test_split(data_rf[all_cols], data_rf[target_col], random_state=111)\n",
    "    rf.fit(train_X,train_y)\n",
    "    train_scores.append(rf.score(train_X,train_y))\n",
    "    test_scores.append(rf.score(test_X,test_y))\n",
    "\n",
    "ax = sns.barplot(n_estimators, test_scores)\n",
    "\n",
    "for p in ax.patches:\n",
    "             ax.annotate(\"%.3f\" % p.get_height(), (p.get_x() + p.get_width() / 2., p.get_height()),\n",
    "                 ha='center', va='center', fontsize=11, color='gray', xytext=(0, 20),\n",
    "                 textcoords='offset points')\n",
    "_ = ax.set_ylim(0,1.2) #To make space for the annotations\n",
    "ax.set_xlabel('n_estimators')\n",
    "ax.set_ylabel('accuracy')\n",
    "ax.set_title('Accuracy of Random Forest Classifier')"
   ]
  },
  {
   "cell_type": "markdown",
   "metadata": {},
   "source": [
    "### Model Analysis"
   ]
  },
  {
   "cell_type": "code",
   "execution_count": 37,
   "metadata": {},
   "outputs": [],
   "source": [
    "def get_label(code):\n",
    "    for key, val in label_dict.items():\n",
    "        if code == val:\n",
    "            return key\n",
    "    return 'False'"
   ]
  },
  {
   "cell_type": "code",
   "execution_count": 38,
   "metadata": {},
   "outputs": [
    {
     "name": "stdout",
     "output_type": "stream",
     "text": [
      "Precision for Minor_Damage_And_Injuries: 0.8919330289193302 \n",
      "Recall for Minor_Damage_And_Injuries: 0.9406099518459069 \n",
      "F1 Score for Minor_Damage_And_Injuries: 0.915625 \n",
      "\n",
      "\n",
      "Precision for Significant_Damage_And_Fatalities: 0.9184652278177458 \n",
      "Recall for Significant_Damage_And_Fatalities: 0.9341463414634147 \n",
      "F1 Score for Significant_Damage_And_Fatalities: 0.9262394195888755 \n",
      "\n",
      "\n",
      "Precision for Significant_Damage_And_Serious_Injuries: 0.9397058823529412 \n",
      "Recall for Significant_Damage_And_Serious_Injuries: 0.9369501466275659 \n",
      "F1 Score for Significant_Damage_And_Serious_Injuries: 0.9383259911894273 \n",
      "\n",
      "\n",
      "Precision for Highly_Fatal_And_Damaging: 0.9718498659517426 \n",
      "Recall for Highly_Fatal_And_Damaging: 0.9235668789808917 \n",
      "F1 Score for Highly_Fatal_And_Damaging: 0.9470934030045722 \n",
      "\n",
      "\n"
     ]
    }
   ],
   "source": [
    "from sklearn.metrics import precision_recall_fscore_support\n",
    "\n",
    "num_classes = 4\n",
    "precision,recall, f1score, support = precision_recall_fscore_support(test_y, rf.predict(test_X[all_cols]))\n",
    "for i in range(num_classes):\n",
    "    print('Precision for {}: {} '.format(get_label(i+1), precision[i]))\n",
    "    print('Recall for {}: {} '.format(get_label(i+1), recall[i]))\n",
    "    print('F1 Score for {}: {} '.format(get_label(i+1), f1score[i]))\n",
    "    print('\\n')"
   ]
  },
  {
   "cell_type": "code",
   "execution_count": 25,
   "metadata": {},
   "outputs": [
    {
     "data": {
      "image/png": "[encoded data removed]",
      "text/plain": [
       "<Figure size 432x288 with 2 Axes>"
      ]
     },
     "metadata": {
      "needs_background": "light"
     },
     "output_type": "display_data"
    }
   ],
   "source": [
    "from scikitplot.metrics import plot_confusion_matrix, plot_roc\n",
    "\n",
    "labels = list(data_rf['Severity'].unique())\n",
    "plot_confusion_matrix(test_y, rf.predict(test_X[all_cols]))\n",
    "\n",
    "num_classes = 4\n",
    "plt.ylim(num_classes-0.5, -0.5)\n",
    "plt.xlim(-0.5, num_classes-0.5)\n",
    "#plt.legend(['a','b','c','d'])\n",
    "plt.show()"
   ]
  },
  {
   "cell_type": "code",
   "execution_count": 26,
   "metadata": {},
   "outputs": [
    {
     "data": {
      "image/png": "[encoded data removed]",
      "text/plain": [
       "<Figure size 432x288 with 1 Axes>"
      ]
     },
     "metadata": {
      "needs_background": "light"
     },
     "output_type": "display_data"
    }
   ],
   "source": [
    "y_proba = rf.predict_proba(test_X[all_cols])\n",
    "plot_roc(test_y, y_proba)\n",
    "plt.show()"
   ]
  },
  {
   "cell_type": "markdown",
   "metadata": {},
   "source": [
    "### Predict Outputs"
   ]
  },
  {
   "cell_type": "code",
   "execution_count": 27,
   "metadata": {},
   "outputs": [],
   "source": [
    "test_rf['SeverityCode'] = rf.predict(test_rf[all_cols])"
   ]
  },
  {
   "cell_type": "code",
   "execution_count": 28,
   "metadata": {},
   "outputs": [],
   "source": [
    "def get_key(code):\n",
    "    for key, val in label_dict.items():\n",
    "        if code == val:\n",
    "            return key\n",
    "    return 'False'\n",
    "test_rf['Severity'] = test_rf['SeverityCode'].apply(lambda row: get_key(row))"
   ]
  },
  {
   "cell_type": "markdown",
   "metadata": {},
   "source": [
    "### Save Outputs"
   ]
  },
  {
   "cell_type": "code",
   "execution_count": 29,
   "metadata": {},
   "outputs": [],
   "source": [
    "test_save = test_rf[['Accident_ID', 'Severity']]"
   ]
  },
  {
   "cell_type": "code",
   "execution_count": 30,
   "metadata": {},
   "outputs": [],
   "source": [
    "test_save= test_save.set_index('Accident_ID')"
   ]
  },
  {
   "cell_type": "code",
   "execution_count": 39,
   "metadata": {},
   "outputs": [],
   "source": [
    "test_save.to_csv('./predictions/final_submit_rf.csv')"
   ]
  },
  {
   "cell_type": "code",
   "execution_count": null,
   "metadata": {},
   "outputs": [],
   "source": []
  }
 ],
 "metadata": {
  "kernelspec": {
   "display_name": "Python 3",
   "language": "python",
   "name": "python3"
  },
  "language_info": {
   "codemirror_mode": {
    "name": "ipython",
    "version": 3
   },
   "file_extension": ".py",
   "mimetype": "text/x-python",
   "name": "python",
   "nbconvert_exporter": "python",
   "pygments_lexer": "ipython3",
   "version": "3.7.4"
  }
 },
 "nbformat": 4,
 "nbformat_minor": 4
}
